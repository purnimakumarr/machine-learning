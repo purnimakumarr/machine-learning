{
 "cells": [
  {
   "cell_type": "markdown",
   "id": "0f09d16d",
   "metadata": {},
   "source": [
    "# Practical - 7\n",
    "\n",
    "### AIM\n",
    "#### Perform other matrix operations like converting matrix data to absolute values, taking the negative of matrix values, adding/removing rows/columns from a matrix, finding the maximum or minimum values in a matrix or in a row/column, and finding the sum of some/all elements in a matrix.\n",
    "\n",
    "### CODE & OUTPUT"
   ]
  },
  {
   "cell_type": "code",
   "execution_count": 2,
   "id": "4605a5fe",
   "metadata": {},
   "outputs": [],
   "source": [
    "import numpy as np\n",
    "mat = np.array([[-1.2, 7, 4.9], [-6.5, -9.0, 1.4], [3.4, 5, 90], [-65.4, 12, 54]])"
   ]
  },
  {
   "cell_type": "code",
   "execution_count": 4,
   "id": "44b7b36e",
   "metadata": {},
   "outputs": [
    {
     "name": "stdout",
     "output_type": "stream",
     "text": [
      "[[ 1.2  7.   4.9]\n",
      " [ 6.5  9.   1.4]\n",
      " [ 3.4  5.  90. ]\n",
      " [65.4 12.  54. ]]\n"
     ]
    }
   ],
   "source": [
    "# finding absolute values of all elements in the matrix\n",
    "print(np.absolute(mat))"
   ]
  },
  {
   "cell_type": "code",
   "execution_count": 5,
   "id": "be1cde9e",
   "metadata": {},
   "outputs": [
    {
     "name": "stdout",
     "output_type": "stream",
     "text": [
      "[[  1.2  -7.   -4.9]\n",
      " [  6.5   9.   -1.4]\n",
      " [ -3.4  -5.  -90. ]\n",
      " [ 65.4 -12.  -54. ]]\n"
     ]
    }
   ],
   "source": [
    "# finding negative of all matrix elements\n",
    "print(np.negative(mat))"
   ]
  },
  {
   "cell_type": "code",
   "execution_count": 6,
   "id": "db8f94e1",
   "metadata": {},
   "outputs": [
    {
     "name": "stdout",
     "output_type": "stream",
     "text": [
      "95.6\n"
     ]
    }
   ],
   "source": [
    "# sum of all elements in a matrix\n",
    "print(np.sum(mat))"
   ]
  },
  {
   "cell_type": "code",
   "execution_count": 8,
   "id": "b5a1f7be",
   "metadata": {},
   "outputs": [
    {
     "name": "stdout",
     "output_type": "stream",
     "text": [
      "90.0\n"
     ]
    }
   ],
   "source": [
    "# maximum element in the matrix\n",
    "print(np.amax(mat))"
   ]
  },
  {
   "cell_type": "code",
   "execution_count": 9,
   "id": "aaca08a1",
   "metadata": {},
   "outputs": [
    {
     "name": "stdout",
     "output_type": "stream",
     "text": [
      "-65.4\n"
     ]
    }
   ],
   "source": [
    "# minimum of element in the matrix\n",
    "print(np.amin(mat))"
   ]
  },
  {
   "cell_type": "code",
   "execution_count": 10,
   "id": "ebfed1f1",
   "metadata": {},
   "outputs": [
    {
     "name": "stdout",
     "output_type": "stream",
     "text": [
      "-1.2\n"
     ]
    }
   ],
   "source": [
    "# minimum in row 0\n",
    "print(np.amin(mat[0]))"
   ]
  },
  {
   "cell_type": "code",
   "execution_count": 11,
   "id": "e0dd0ee0",
   "metadata": {},
   "outputs": [
    {
     "name": "stdout",
     "output_type": "stream",
     "text": [
      "7.0\n"
     ]
    }
   ],
   "source": [
    "# maximum in row 0\n",
    "print(np.amax(mat[0]))"
   ]
  },
  {
   "cell_type": "code",
   "execution_count": 12,
   "id": "52f1735d",
   "metadata": {},
   "outputs": [
    {
     "name": "stdout",
     "output_type": "stream",
     "text": [
      "-9.0\n",
      "1.4\n"
     ]
    }
   ],
   "source": [
    "# minimum in row 1\n",
    "print(np.amin(mat[1]))\n",
    "\n",
    "# maximum in row 1\n",
    "print(np.amax(mat[1]))"
   ]
  },
  {
   "cell_type": "code",
   "execution_count": 13,
   "id": "01efb3e6",
   "metadata": {},
   "outputs": [
    {
     "name": "stdout",
     "output_type": "stream",
     "text": [
      "3.4\n",
      "90.0\n"
     ]
    }
   ],
   "source": [
    "# minimum in row 2\n",
    "print(np.amin(mat[2]))\n",
    "\n",
    "# maximum in row 2\n",
    "print(np.amax(mat[2]))"
   ]
  },
  {
   "cell_type": "code",
   "execution_count": 15,
   "id": "c0941a8e",
   "metadata": {},
   "outputs": [
    {
     "name": "stdout",
     "output_type": "stream",
     "text": [
      "[[ -1.2   7.    4.9]\n",
      " [  3.4   5.   90. ]\n",
      " [-65.4  12.   54. ]]\n"
     ]
    }
   ],
   "source": [
    "# delete a row fom the matrix\n",
    "print(np.delete(mat, 1, 0))"
   ]
  },
  {
   "cell_type": "code",
   "execution_count": 16,
   "id": "65f9a7d7",
   "metadata": {},
   "outputs": [
    {
     "name": "stdout",
     "output_type": "stream",
     "text": [
      "[[ -1.2   4.9]\n",
      " [ -6.5   1.4]\n",
      " [  3.4  90. ]\n",
      " [-65.4  54. ]]\n"
     ]
    }
   ],
   "source": [
    "# delete a column from a matrix\n",
    "print(np.delete(mat, 1, 1))"
   ]
  },
  {
   "cell_type": "code",
   "execution_count": 17,
   "id": "d3befc43",
   "metadata": {},
   "outputs": [
    {
     "name": "stdout",
     "output_type": "stream",
     "text": [
      "[[1 2 3]\n",
      " [4 5 6]\n",
      " [7 8 9]]\n"
     ]
    }
   ],
   "source": [
    "# add a row to the matrix\n",
    "arr = np.array([[1,2,3],[4,5,6]])\n",
    "row = np.array([7,8,9])\n",
    "arr = np.append(arr, [row], 0)\n",
    "print(arr)"
   ]
  },
  {
   "cell_type": "code",
   "execution_count": 20,
   "id": "a2357efd",
   "metadata": {},
   "outputs": [
    {
     "name": "stdout",
     "output_type": "stream",
     "text": [
      "[[ 1  2  3 89]\n",
      " [ 4  5  6  6]\n",
      " [ 7  8  9 -2]]\n"
     ]
    }
   ],
   "source": [
    "# add a column to the matrix\n",
    "col = np.array([89,6,-2])\n",
    "arr = np.column_stack((arr, col))\n",
    "print(arr)"
   ]
  }
 ],
 "metadata": {
  "kernelspec": {
   "display_name": "Python 3 (ipykernel)",
   "language": "python",
   "name": "python3"
  },
  "language_info": {
   "codemirror_mode": {
    "name": "ipython",
    "version": 3
   },
   "file_extension": ".py",
   "mimetype": "text/x-python",
   "name": "python",
   "nbconvert_exporter": "python",
   "pygments_lexer": "ipython3",
   "version": "3.9.7"
  }
 },
 "nbformat": 4,
 "nbformat_minor": 5
}
