{
 "cells": [
  {
   "cell_type": "markdown",
   "id": "5d6119a8",
   "metadata": {},
   "source": [
    "# Practical - 10\n",
    "\n",
    "### AIM\n",
    "#### Use conditional statements and different type of loops based on simple example/s.\n",
    "\n",
    "### CODE & OUTPUT"
   ]
  },
  {
   "cell_type": "code",
   "execution_count": 1,
   "id": "f1fa6804",
   "metadata": {},
   "outputs": [
    {
     "name": "stdout",
     "output_type": "stream",
     "text": [
      "Ummmm, my favorite!\n",
      "I feel like saying it 100 times...\n",
      "spam! spam! spam! spam! spam! spam! spam! spam! spam! spam! spam! spam! spam! spam! spam! spam! spam! spam! spam! spam! spam! spam! spam! spam! spam! spam! spam! spam! spam! spam! spam! spam! spam! spam! spam! spam! spam! spam! spam! spam! spam! spam! spam! spam! spam! spam! spam! spam! spam! spam! spam! spam! spam! spam! spam! spam! spam! spam! spam! spam! spam! spam! spam! spam! spam! spam! spam! spam! spam! spam! spam! spam! spam! spam! spam! spam! spam! spam! spam! spam! spam! spam! spam! spam! spam! spam! spam! spam! spam! spam! spam! spam! spam! spam! spam! spam! spam! spam! spam! spam! \n"
     ]
    }
   ],
   "source": [
    "# conditional statement: if\n",
    "food = 'spam'\n",
    "\n",
    "if food == 'spam':\n",
    "    print('Ummmm, my favorite!')\n",
    "    print('I feel like saying it 100 times...')\n",
    "    print(100 * (food + '! '))"
   ]
  },
  {
   "cell_type": "code",
   "execution_count": 2,
   "id": "87c4d62d",
   "metadata": {},
   "outputs": [
    {
     "name": "stdout",
     "output_type": "stream",
     "text": [
      "Ummmm, my favorite!\n"
     ]
    }
   ],
   "source": [
    "# consitional statement: if-else\n",
    "if food == 'spam':\n",
    "    print('Ummmm, my favorite!')\n",
    "else:\n",
    "    print(\"No, I won't have it. I want spam!\")"
   ]
  },
  {
   "cell_type": "code",
   "execution_count": 4,
   "id": "9fcd48ab",
   "metadata": {},
   "outputs": [
    {
     "name": "stdout",
     "output_type": "stream",
     "text": [
      "You chose 'c'.\n"
     ]
    }
   ],
   "source": [
    "# conditional statement: if-elif-else\n",
    "choice = 'c'\n",
    "\n",
    "if choice == 'a':\n",
    "    print(\"You chose 'a'.\")\n",
    "elif choice == 'b':\n",
    "    print(\"You chose 'b'.\")\n",
    "elif choice == 'c':\n",
    "    print(\"You chose 'c'.\")\n",
    "else:\n",
    "    print(\"Invalid choice.\")"
   ]
  },
  {
   "cell_type": "code",
   "execution_count": 5,
   "id": "6bfba89e",
   "metadata": {},
   "outputs": [
    {
     "name": "stdout",
     "output_type": "stream",
     "text": [
      "x is a positive single digit.\n"
     ]
    }
   ],
   "source": [
    "# nested condition\n",
    "x = 3\n",
    "if 0 < x:           \n",
    "    if x < 10:\n",
    "        print(\"x is a positive single digit.\")"
   ]
  },
  {
   "cell_type": "code",
   "execution_count": 6,
   "id": "8522fb31",
   "metadata": {},
   "outputs": [
    {
     "name": "stdout",
     "output_type": "stream",
     "text": [
      "Hi Margot.  Please come to my party on Saturday!\n",
      "Hi Kathryn.  Please come to my party on Saturday!\n",
      "Hi Prisila.  Please come to my party on Saturday!\n"
     ]
    }
   ],
   "source": [
    "# for loop\n",
    "\n",
    "for friend in ['Margot', 'Kathryn', 'Prisila']:\n",
    "    invitation = \"Hi \" + friend + \".  Please come to my party on Saturday!\"\n",
    "    print(invitation)"
   ]
  },
  {
   "cell_type": "code",
   "execution_count": 7,
   "id": "2c28a01e",
   "metadata": {},
   "outputs": [
    {
     "name": "stdout",
     "output_type": "stream",
     "text": [
      "i is now: 0\n",
      "i is now: 1\n",
      "i is now: 2\n",
      "i is now: 3\n",
      "i is now: 4\n"
     ]
    }
   ],
   "source": [
    "for i in range(5):\n",
    "    print('i is now:', i)"
   ]
  },
  {
   "cell_type": "code",
   "execution_count": 8,
   "id": "8d621b9c",
   "metadata": {},
   "outputs": [
    {
     "name": "stdout",
     "output_type": "stream",
     "text": [
      "0 \t 1\n",
      "1 \t 2\n",
      "2 \t 4\n",
      "3 \t 8\n",
      "4 \t 16\n",
      "5 \t 32\n",
      "6 \t 64\n",
      "7 \t 128\n",
      "8 \t 256\n",
      "9 \t 512\n",
      "10 \t 1024\n",
      "11 \t 2048\n",
      "12 \t 4096\n"
     ]
    }
   ],
   "source": [
    "for x in range(13):   # Generate numbers 0 to 12\n",
    "    print(x, '\\t', 2**x)"
   ]
  },
  {
   "cell_type": "code",
   "execution_count": 10,
   "id": "8ab9b522",
   "metadata": {},
   "outputs": [
    {
     "name": "stdout",
     "output_type": "stream",
     "text": [
      "What is the meaning of life, the universe, and everything? 5\n",
      "What is the meaning of life, the universe, and everything? 67\n",
      "What is the meaning of life, the universe, and everything? 42\n"
     ]
    }
   ],
   "source": [
    "# the while statement\n",
    "\n",
    "number = 0\n",
    "prompt = \"What is the meaning of life, the universe, and everything? \"\n",
    "\n",
    "while number != \"42\":\n",
    "    number =  input(prompt)"
   ]
  },
  {
   "cell_type": "code",
   "execution_count": 11,
   "id": "23b40911",
   "metadata": {},
   "outputs": [
    {
     "name": "stdout",
     "output_type": "stream",
     "text": [
      "So I'm thinking of person's name. Try to guess it: Linda\n",
      "Nope, that's not it! Hint: letter 1 is H. Guess again: Harry\n",
      "Nope, that's not it! Hint: letter 2 is a. Guess again: harrison\n",
      "Nope, that's not it! Hint: letter 3 is r. Guess again: Harrison\n",
      "\n",
      "Great, you got it in 4 guesses!\n"
     ]
    }
   ],
   "source": [
    "name = 'Harrison'\n",
    "guess = input(\"So I'm thinking of person's name. Try to guess it: \")\n",
    "pos = 0\n",
    "\n",
    "while guess != name and pos < len(name):\n",
    "    print(\"Nope, that's not it! Hint: letter \", end='')\n",
    "    print(pos + 1, \"is\", name[pos] + \". \", end='')\n",
    "    guess = input(\"Guess again: \")\n",
    "    pos = pos + 1\n",
    "\n",
    "if pos == len(name) and name != guess:\n",
    "    print(\"Too bad, you couldn't get it.  The name was\", name + \".\")\n",
    "else:\n",
    "    print(\"\\nGreat, you got it in\", pos + 1,  \"guesses!\")"
   ]
  }
 ],
 "metadata": {
  "kernelspec": {
   "display_name": "Python 3 (ipykernel)",
   "language": "python",
   "name": "python3"
  },
  "language_info": {
   "codemirror_mode": {
    "name": "ipython",
    "version": 3
   },
   "file_extension": ".py",
   "mimetype": "text/x-python",
   "name": "python",
   "nbconvert_exporter": "python",
   "pygments_lexer": "ipython3",
   "version": "3.9.7"
  }
 },
 "nbformat": 4,
 "nbformat_minor": 5
}
