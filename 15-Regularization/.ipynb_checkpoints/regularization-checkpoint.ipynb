{
 "cells": [
  {
   "cell_type": "markdown",
   "id": "97dab4f8",
   "metadata": {},
   "source": [
    "# Pactical - 15\n",
    "\n",
    "### AIM\n",
    "#### Use some function for regularization of dataset based on problem 14.\n",
    "\n",
    "### PROBLEM \n",
    "#### Based on age of a person predict whether a person will buy insurance or not.\n",
    "\n",
    "### CODE & OUTPUT"
   ]
  },
  {
   "cell_type": "code",
   "execution_count": 17,
   "id": "baf39d4f",
   "metadata": {},
   "outputs": [
    {
     "name": "stdout",
     "output_type": "stream",
     "text": [
      "[0 1 0 1 1 1]\n",
      "[[0.04790596]]\n",
      "[-1.99293978]\n"
     ]
    },
    {
     "data": {
      "image/png": "[encoded data removed]",
      "text/plain": [
       "<Figure size 432x288 with 1 Axes>"
      ]
     },
     "metadata": {
      "needs_background": "light"
     },
     "output_type": "display_data"
    }
   ],
   "source": [
    "# import statements\n",
    "import pandas as pd\n",
    "from matplotlib import pyplot as plt\n",
    "%matplotlib inline\n",
    "\n",
    "# read the data file\n",
    "df = pd.read_csv(\"insurance_data.csv\")\n",
    "df.head()\n",
    "\n",
    "# scatter plot the data\n",
    "plt.scatter(df.age, df.bought_insurance, marker=\"*\", color=\"green\")\n",
    "\n",
    "# split the data into 2 parts: train data & test data\n",
    "from sklearn.model_selection import train_test_split\n",
    "x_train, x_test, y_train, y_test = train_test_split(df[['age']], df.bought_insurance, train_size = 0.8)\n",
    "\n",
    "from sklearn.linear_model import RidgeClassifier\n",
    "ridge_model = RidgeClassifier(alpha = 50)\n",
    "\n",
    "# fit the training data on the model\n",
    "ridge_model.fit(x_train, y_train)\n",
    "\n",
    "# predict y for the test data\n",
    "y_pred = ridge_model.predict(x_test)\n",
    "print(y_pred)\n",
    "\n",
    "# get the coeffient in the equation y = mx + c\n",
    "print(ridge_model.coef_)\n",
    "\n",
    "# get the intercept in the equation y = mx + c\n",
    "print(ridge_model.intercept_)"
   ]
  },
  {
   "cell_type": "code",
   "execution_count": 18,
   "id": "11d798a7",
   "metadata": {},
   "outputs": [
    {
     "name": "stdout",
     "output_type": "stream",
     "text": [
      "0.8571428571428571\n",
      "0.8333333333333334\n"
     ]
    },
    {
     "data": {
      "image/png": "[encoded data removed]",
      "text/plain": [
       "<Figure size 432x288 with 1 Axes>"
      ]
     },
     "metadata": {
      "needs_background": "light"
     },
     "output_type": "display_data"
    }
   ],
   "source": [
    "# the best fit line can be written as \n",
    "y = 0.05 * df.age - 1.99\n",
    "plt.plot(df.age, y, color=\"blue\")\n",
    "plt.scatter(df.age, df.bought_insurance, marker=\"*\", color=\"green\")\n",
    "\n",
    "print(ridge_model.score(x_train, y_train))\n",
    "print(ridge_model.score(x_test, y_test))"
   ]
  }
 ],
 "metadata": {
  "kernelspec": {
   "display_name": "Python 3 (ipykernel)",
   "language": "python",
   "name": "python3"
  },
  "language_info": {
   "codemirror_mode": {
    "name": "ipython",
    "version": 3
   },
   "file_extension": ".py",
   "mimetype": "text/x-python",
   "name": "python",
   "nbconvert_exporter": "python",
   "pygments_lexer": "ipython3",
   "version": "3.9.7"
  }
 },
 "nbformat": 4,
 "nbformat_minor": 5
}
