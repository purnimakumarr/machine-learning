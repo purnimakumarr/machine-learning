{
 "cells": [
  {
   "cell_type": "markdown",
   "id": "99f7bb91",
   "metadata": {},
   "source": [
    "# Practical - 11\n",
    "\n",
    "### AIM\n",
    "#### Perform vectorized implementation of simple matrix operation like finding the transpose of a matrix, adding, subtracting or multiplying two matrices.\n",
    "\n",
    "### CODE & OUTPUT"
   ]
  },
  {
   "cell_type": "code",
   "execution_count": 2,
   "id": "78dbc211",
   "metadata": {},
   "outputs": [
    {
     "name": "stdout",
     "output_type": "stream",
     "text": [
      "[[1 4 7]\n",
      " [2 5 8]\n",
      " [3 6 9]]\n"
     ]
    }
   ],
   "source": [
    "import numpy as np\n",
    "\n",
    "# transpose of a matrix\n",
    "mat = np.array([[1, 2, 3], [4, 5, 6], [7, 8, 9]])\n",
    "transpose = np.transpose(mat)\n",
    "print(transpose)"
   ]
  },
  {
   "cell_type": "code",
   "execution_count": 3,
   "id": "afabe1a2",
   "metadata": {},
   "outputs": [
    {
     "name": "stdout",
     "output_type": "stream",
     "text": [
      "[[ 7  7  7]\n",
      " [11 10  7]\n",
      " [ 7 14 18]]\n"
     ]
    }
   ],
   "source": [
    "# adding two matrices\n",
    "mat1 = np.array([[6, 5, 4], [7, 5, 1], [0, 6, 9]])\n",
    "addition = np.add(mat, mat1)\n",
    "print(addition)"
   ]
  },
  {
   "cell_type": "code",
   "execution_count": 4,
   "id": "666f0257",
   "metadata": {},
   "outputs": [
    {
     "name": "stdout",
     "output_type": "stream",
     "text": [
      "[[-5 -3 -1]\n",
      " [-3  0  5]\n",
      " [ 7  2  0]]\n"
     ]
    }
   ],
   "source": [
    "# subtract two matrices\n",
    "addition = np.subtract(mat, mat1)\n",
    "print(addition)"
   ]
  },
  {
   "cell_type": "code",
   "execution_count": 5,
   "id": "c464478e",
   "metadata": {},
   "outputs": [
    {
     "name": "stdout",
     "output_type": "stream",
     "text": [
      "[[ 6 10 12]\n",
      " [28 25  6]\n",
      " [ 0 48 81]]\n"
     ]
    }
   ],
   "source": [
    "# multiply two matrices\n",
    "addition = np.multiply(mat, mat1)\n",
    "print(addition)"
   ]
  }
 ],
 "metadata": {
  "kernelspec": {
   "display_name": "Python 3 (ipykernel)",
   "language": "python",
   "name": "python3"
  },
  "language_info": {
   "codemirror_mode": {
    "name": "ipython",
    "version": 3
   },
   "file_extension": ".py",
   "mimetype": "text/x-python",
   "name": "python",
   "nbconvert_exporter": "python",
   "pygments_lexer": "ipython3",
   "version": "3.9.7"
  }
 },
 "nbformat": 4,
 "nbformat_minor": 5
}
