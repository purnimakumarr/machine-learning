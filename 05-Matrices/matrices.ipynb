{
 "cells": [
  {
   "cell_type": "markdown",
   "id": "47e56f8b",
   "metadata": {},
   "source": [
    "# Practical - 5\n",
    "\n",
    "### AIM\n",
    "#### Use commands to compute the size of a matrix, size/length of a particular row/column, load data from a text file, store matrix data to a text file, finding out variables and their features in the current scope.\n",
    "\n",
    "### CODE & OUTPUT"
   ]
  },
  {
   "cell_type": "code",
   "execution_count": 2,
   "id": "788a68af",
   "metadata": {},
   "outputs": [
    {
     "name": "stdout",
     "output_type": "stream",
     "text": [
      "(2, 3)\n"
     ]
    }
   ],
   "source": [
    "import numpy as np\n",
    "array = np.array([[1, 2, 3], [3, 4, 5]])\n",
    "print(array.shape) # size of a matrix"
   ]
  },
  {
   "cell_type": "code",
   "execution_count": 3,
   "id": "b85ad9b0",
   "metadata": {},
   "outputs": [
    {
     "name": "stdout",
     "output_type": "stream",
     "text": [
      "(3,)\n"
     ]
    }
   ],
   "source": [
    "print(array[0].shape)"
   ]
  },
  {
   "cell_type": "code",
   "execution_count": 1,
   "id": "870ca37d",
   "metadata": {},
   "outputs": [
    {
     "ename": "TypeError",
     "evalue": "'delimiter' is an invalid keyword argument for open()",
     "output_type": "error",
     "traceback": [
      "\u001b[1;31m---------------------------------------------------------------------------\u001b[0m",
      "\u001b[1;31mTypeError\u001b[0m                                 Traceback (most recent call last)",
      "\u001b[1;32m~\\AppData\\Local\\Temp/ipykernel_16652/2995955811.py\u001b[0m in \u001b[0;36m<module>\u001b[1;34m\u001b[0m\n\u001b[0;32m      1\u001b[0m \u001b[1;32mimport\u001b[0m \u001b[0mpandas\u001b[0m \u001b[1;32mas\u001b[0m \u001b[0mpd\u001b[0m\u001b[1;33m\u001b[0m\u001b[1;33m\u001b[0m\u001b[0m\n\u001b[1;32m----> 2\u001b[1;33m \u001b[0mdata\u001b[0m \u001b[1;33m=\u001b[0m \u001b[0mopen\u001b[0m\u001b[1;33m(\u001b[0m\u001b[1;34m'file.txt'\u001b[0m\u001b[1;33m,\u001b[0m \u001b[0mdelimiter\u001b[0m \u001b[1;33m=\u001b[0m \u001b[1;34m' '\u001b[0m\u001b[1;33m)\u001b[0m\u001b[1;33m\u001b[0m\u001b[1;33m\u001b[0m\u001b[0m\n\u001b[0m\u001b[0;32m      3\u001b[0m \u001b[0mprint\u001b[0m\u001b[1;33m(\u001b[0m\u001b[0mdata\u001b[0m\u001b[1;33m)\u001b[0m\u001b[1;33m\u001b[0m\u001b[1;33m\u001b[0m\u001b[0m\n",
      "\u001b[1;31mTypeError\u001b[0m: 'delimiter' is an invalid keyword argument for open()"
     ]
    }
   ],
   "source": [
    "import pandas as pd\n",
    "data = pd.read_csv('file.txt', delimiter = ' ')\n",
    "print(data)"
   ]
  },
  {
   "cell_type": "code",
   "execution_count": 19,
   "id": "0049bc7c",
   "metadata": {},
   "outputs": [],
   "source": [
    "# store a matrix data in a text file\n",
    "x =  np.arange(0.0,5.0,1.0)\n",
    "np.savetxt('test.txt', x, delimiter=',')"
   ]
  },
  {
   "cell_type": "code",
   "execution_count": 20,
   "id": "771e1e09",
   "metadata": {},
   "outputs": [
    {
     "name": "stdout",
     "output_type": "stream",
     "text": [
      "In is <class 'list'> and is equal to  ['', 'import numpy as np\\narray = np.array([[1, 2, 3], [3, 4, 5]])\\npint(array.shape) # size of a matrix', 'import numpy as np\\narray = np.array([[1, 2, 3], [3, 4, 5]])\\nprint(array.shape) # size of a matrix', 'print(array[0].shape)', 'print(array[][0].shape)', \"import pandas as pd\\ndata = pd.read_table('file.txt', delimiter = '')\", \"import pandas as pd\\ndata = pd.read_table('file.txt', delimiter = '')\\nprint(data)\", \"import pandas as pd\\ndata = pd.read_table('file.txt', delimiter = ' ')\\nprint(data)\", \"import pandas as pd\\ndata = pd.read_table('file.txt', delimiter = ' ')\\nprint(data)\", \"import pandas as pd\\ndata = pd.read_csv('file.txt', delimiter = ' ')\\nprint(data)\", '# store a matrix data in a text file\\nstudents = [\"sahil\", \"rahul\", \"rohan\", \"riya\", \"ananya\", \"vikas\"]\\nnp.savetxt(\"text,txt\", students, delimiter = \":\")', '# store a matrix data in a text file\\nstudents = [\"sahil\", \"rahul\", \"rohan\", \"riya\", \"ananya\", \"vikas\"]\\nnp.savetxt(\"text.txt\", students, delimiter = \":\")', '# store a matrix data in a text file\\nstudents = numpy.arry([\"sahil\", \"rahul\", \"rohan\", \"riya\", \"ananya\", \"vikas\"])\\nnp.savetxt(\"text.txt\", students, delimiter = \":\")', '# store a matrix data in a text file\\nstudents = np.arry([\"sahil\", \"rahul\", \"rohan\", \"riya\", \"ananya\", \"vikas\"])\\nnp.savetxt(\"text.txt\", students, delimiter = \":\")', '# store a matrix data in a text file\\nstudents = np.array([\"sahil\", \"rahul\", \"rohan\", \"riya\", \"ananya\", \"vikas\"])\\nnp.savetxt(\"text.txt\", students, delimiter = \":\")', '# store a matrix data in a text file\\ns = np.array([\"sahil\", \"rahul\", \"rohan\", \"riya\", \"ananya\", \"vikas\"])\\nnp.savetxt(\"text.txt\", s, delimiter = \":\")', '# store a matrix data in a text file\\ns = np.array([\"2\", \"4\", \"6\", \"8\", \"10\", \"12\"])\\nnp.savetxt(\"text.txt\", s, delimiter = \":\")', '# store a matrix data in a text file\\ns = np.array([\"2\", \"4\", \"6\", \"8\", \"10\", \"12\"])\\nnp.savetxt(\"text.txt\", s, delimiter = \",\")', \"# store a matrix data in a text file\\nx =  np.arange(0.0,5.0,1.0)\\nnp.savetxt('test.out', x, delimiter=',')\", \"# store a matrix data in a text file\\nx =  np.arange(0.0,5.0,1.0)\\nnp.savetxt('test.txt', x, delimiter=',')\", 'all_variables = dir()\\n  \\n# Iterate over the whole list where dir( ) is stored.\\nfor name in all_variables:\\n    # Print the item if it doesn\\'t start with \\'__\\'\\n    if not name.startswith(\\'__\\'):\\n        myvalue = eval(name)\\n        print(name, \"is\", type(myvalue), \"and is equal to \", myvalue)']\n",
      "Out is <class 'dict'> and is equal to  {}\n",
      "_ is <class 'str'> and is equal to  \n",
      "_dh is <class 'list'> and is equal to  ['C:\\\\Users\\\\purnima\\\\OneDrive\\\\Documents\\\\GitHub\\\\machine-learning\\\\05-Matrices']\n",
      "_i is <class 'str'> and is equal to  # store a matrix data in a text file\n",
      "x =  np.arange(0.0,5.0,1.0)\n",
      "np.savetxt('test.txt', x, delimiter=',')\n",
      "_i1 is <class 'str'> and is equal to  import numpy as np\n",
      "array = np.array([[1, 2, 3], [3, 4, 5]])\n",
      "pint(array.shape) # size of a matrix\n",
      "_i10 is <class 'str'> and is equal to  # store a matrix data in a text file\n",
      "students = [\"sahil\", \"rahul\", \"rohan\", \"riya\", \"ananya\", \"vikas\"]\n",
      "np.savetxt(\"text,txt\", students, delimiter = \":\")\n",
      "_i11 is <class 'str'> and is equal to  # store a matrix data in a text file\n",
      "students = [\"sahil\", \"rahul\", \"rohan\", \"riya\", \"ananya\", \"vikas\"]\n",
      "np.savetxt(\"text.txt\", students, delimiter = \":\")\n",
      "_i12 is <class 'str'> and is equal to  # store a matrix data in a text file\n",
      "students = numpy.arry([\"sahil\", \"rahul\", \"rohan\", \"riya\", \"ananya\", \"vikas\"])\n",
      "np.savetxt(\"text.txt\", students, delimiter = \":\")\n",
      "_i13 is <class 'str'> and is equal to  # store a matrix data in a text file\n",
      "students = np.arry([\"sahil\", \"rahul\", \"rohan\", \"riya\", \"ananya\", \"vikas\"])\n",
      "np.savetxt(\"text.txt\", students, delimiter = \":\")\n",
      "_i14 is <class 'str'> and is equal to  # store a matrix data in a text file\n",
      "students = np.array([\"sahil\", \"rahul\", \"rohan\", \"riya\", \"ananya\", \"vikas\"])\n",
      "np.savetxt(\"text.txt\", students, delimiter = \":\")\n",
      "_i15 is <class 'str'> and is equal to  # store a matrix data in a text file\n",
      "s = np.array([\"sahil\", \"rahul\", \"rohan\", \"riya\", \"ananya\", \"vikas\"])\n",
      "np.savetxt(\"text.txt\", s, delimiter = \":\")\n",
      "_i16 is <class 'str'> and is equal to  # store a matrix data in a text file\n",
      "s = np.array([\"2\", \"4\", \"6\", \"8\", \"10\", \"12\"])\n",
      "np.savetxt(\"text.txt\", s, delimiter = \":\")\n",
      "_i17 is <class 'str'> and is equal to  # store a matrix data in a text file\n",
      "s = np.array([\"2\", \"4\", \"6\", \"8\", \"10\", \"12\"])\n",
      "np.savetxt(\"text.txt\", s, delimiter = \",\")\n",
      "_i18 is <class 'str'> and is equal to  # store a matrix data in a text file\n",
      "x =  np.arange(0.0,5.0,1.0)\n",
      "np.savetxt('test.out', x, delimiter=',')\n",
      "_i19 is <class 'str'> and is equal to  # store a matrix data in a text file\n",
      "x =  np.arange(0.0,5.0,1.0)\n",
      "np.savetxt('test.txt', x, delimiter=',')\n",
      "_i2 is <class 'str'> and is equal to  import numpy as np\n",
      "array = np.array([[1, 2, 3], [3, 4, 5]])\n",
      "print(array.shape) # size of a matrix\n",
      "_i20 is <class 'str'> and is equal to  all_variables = dir()\n",
      "  \n",
      "# Iterate over the whole list where dir( ) is stored.\n",
      "for name in all_variables:\n",
      "    # Print the item if it doesn't start with '__'\n",
      "    if not name.startswith('__'):\n",
      "        myvalue = eval(name)\n",
      "        print(name, \"is\", type(myvalue), \"and is equal to \", myvalue)\n",
      "_i3 is <class 'str'> and is equal to  print(array[0].shape)\n",
      "_i4 is <class 'str'> and is equal to  print(array[][0].shape)\n",
      "_i5 is <class 'str'> and is equal to  import pandas as pd\n",
      "data = pd.read_table('file.txt', delimiter = '')\n",
      "_i6 is <class 'str'> and is equal to  import pandas as pd\n",
      "data = pd.read_table('file.txt', delimiter = '')\n",
      "print(data)\n",
      "_i7 is <class 'str'> and is equal to  import pandas as pd\n",
      "data = pd.read_table('file.txt', delimiter = ' ')\n",
      "print(data)\n",
      "_i8 is <class 'str'> and is equal to  import pandas as pd\n",
      "data = pd.read_table('file.txt', delimiter = ' ')\n",
      "print(data)\n",
      "_i9 is <class 'str'> and is equal to  import pandas as pd\n",
      "data = pd.read_csv('file.txt', delimiter = ' ')\n",
      "print(data)\n",
      "_ih is <class 'list'> and is equal to  ['', 'import numpy as np\\narray = np.array([[1, 2, 3], [3, 4, 5]])\\npint(array.shape) # size of a matrix', 'import numpy as np\\narray = np.array([[1, 2, 3], [3, 4, 5]])\\nprint(array.shape) # size of a matrix', 'print(array[0].shape)', 'print(array[][0].shape)', \"import pandas as pd\\ndata = pd.read_table('file.txt', delimiter = '')\", \"import pandas as pd\\ndata = pd.read_table('file.txt', delimiter = '')\\nprint(data)\", \"import pandas as pd\\ndata = pd.read_table('file.txt', delimiter = ' ')\\nprint(data)\", \"import pandas as pd\\ndata = pd.read_table('file.txt', delimiter = ' ')\\nprint(data)\", \"import pandas as pd\\ndata = pd.read_csv('file.txt', delimiter = ' ')\\nprint(data)\", '# store a matrix data in a text file\\nstudents = [\"sahil\", \"rahul\", \"rohan\", \"riya\", \"ananya\", \"vikas\"]\\nnp.savetxt(\"text,txt\", students, delimiter = \":\")', '# store a matrix data in a text file\\nstudents = [\"sahil\", \"rahul\", \"rohan\", \"riya\", \"ananya\", \"vikas\"]\\nnp.savetxt(\"text.txt\", students, delimiter = \":\")', '# store a matrix data in a text file\\nstudents = numpy.arry([\"sahil\", \"rahul\", \"rohan\", \"riya\", \"ananya\", \"vikas\"])\\nnp.savetxt(\"text.txt\", students, delimiter = \":\")', '# store a matrix data in a text file\\nstudents = np.arry([\"sahil\", \"rahul\", \"rohan\", \"riya\", \"ananya\", \"vikas\"])\\nnp.savetxt(\"text.txt\", students, delimiter = \":\")', '# store a matrix data in a text file\\nstudents = np.array([\"sahil\", \"rahul\", \"rohan\", \"riya\", \"ananya\", \"vikas\"])\\nnp.savetxt(\"text.txt\", students, delimiter = \":\")', '# store a matrix data in a text file\\ns = np.array([\"sahil\", \"rahul\", \"rohan\", \"riya\", \"ananya\", \"vikas\"])\\nnp.savetxt(\"text.txt\", s, delimiter = \":\")', '# store a matrix data in a text file\\ns = np.array([\"2\", \"4\", \"6\", \"8\", \"10\", \"12\"])\\nnp.savetxt(\"text.txt\", s, delimiter = \":\")', '# store a matrix data in a text file\\ns = np.array([\"2\", \"4\", \"6\", \"8\", \"10\", \"12\"])\\nnp.savetxt(\"text.txt\", s, delimiter = \",\")', \"# store a matrix data in a text file\\nx =  np.arange(0.0,5.0,1.0)\\nnp.savetxt('test.out', x, delimiter=',')\", \"# store a matrix data in a text file\\nx =  np.arange(0.0,5.0,1.0)\\nnp.savetxt('test.txt', x, delimiter=',')\", 'all_variables = dir()\\n  \\n# Iterate over the whole list where dir( ) is stored.\\nfor name in all_variables:\\n    # Print the item if it doesn\\'t start with \\'__\\'\\n    if not name.startswith(\\'__\\'):\\n        myvalue = eval(name)\\n        print(name, \"is\", type(myvalue), \"and is equal to \", myvalue)']\n",
      "_ii is <class 'str'> and is equal to  # store a matrix data in a text file\n",
      "x =  np.arange(0.0,5.0,1.0)\n",
      "np.savetxt('test.out', x, delimiter=',')\n",
      "_iii is <class 'str'> and is equal to  # store a matrix data in a text file\n",
      "s = np.array([\"2\", \"4\", \"6\", \"8\", \"10\", \"12\"])\n",
      "np.savetxt(\"text.txt\", s, delimiter = \",\")\n",
      "_oh is <class 'dict'> and is equal to  {}\n",
      "array is <class 'numpy.ndarray'> and is equal to  [[1 2 3]\n",
      " [3 4 5]]\n",
      "data is <class 'pandas.core.frame.DataFrame'> and is equal to      Akash  Rahul\n",
      "0    Riya  Nakul\n",
      "1  Preeti  Vikas\n",
      "exit is <class 'IPython.core.autocall.ZMQExitAutocall'> and is equal to  <IPython.core.autocall.ZMQExitAutocall object at 0x0000023E19E44760>\n",
      "get_ipython is <class 'method'> and is equal to  <bound method InteractiveShell.get_ipython of <ipykernel.zmqshell.ZMQInteractiveShell object at 0x0000023E19DE34C0>>\n",
      "np is <class 'module'> and is equal to  <module 'numpy' from 'C:\\\\Users\\\\purnima\\\\anaconda3\\\\lib\\\\site-packages\\\\numpy\\\\__init__.py'>\n",
      "pd is <class 'module'> and is equal to  <module 'pandas' from 'C:\\\\Users\\\\purnima\\\\anaconda3\\\\lib\\\\site-packages\\\\pandas\\\\__init__.py'>\n",
      "quit is <class 'IPython.core.autocall.ZMQExitAutocall'> and is equal to  <IPython.core.autocall.ZMQExitAutocall object at 0x0000023E19E44760>\n",
      "s is <class 'numpy.ndarray'> and is equal to  ['2' '4' '6' '8' '10' '12']\n",
      "students is <class 'numpy.ndarray'> and is equal to  ['sahil' 'rahul' 'rohan' 'riya' 'ananya' 'vikas']\n",
      "x is <class 'numpy.ndarray'> and is equal to  [0. 1. 2. 3. 4.]\n"
     ]
    }
   ],
   "source": [
    "all_variables = dir()\n",
    "  \n",
    "# Iterate over the whole list where dir( ) is stored.\n",
    "for name in all_variables:\n",
    "    # Print the item if it doesn't start with '__'\n",
    "    if not name.startswith('__'):\n",
    "        myvalue = eval(name)\n",
    "        print(name, \"is\", type(myvalue), \"and is equal to \", myvalue)"
   ]
  },
  {
   "cell_type": "code",
   "execution_count": null,
   "id": "b95f28ee",
   "metadata": {},
   "outputs": [],
   "source": []
  }
 ],
 "metadata": {
  "kernelspec": {
   "display_name": "Python 3 (ipykernel)",
   "language": "python",
   "name": "python3"
  },
  "language_info": {
   "codemirror_mode": {
    "name": "ipython",
    "version": 3
   },
   "file_extension": ".py",
   "mimetype": "text/x-python",
   "name": "python",
   "nbconvert_exporter": "python",
   "pygments_lexer": "ipython3",
   "version": "3.9.7"
  }
 },
 "nbformat": 4,
 "nbformat_minor": 5
}
