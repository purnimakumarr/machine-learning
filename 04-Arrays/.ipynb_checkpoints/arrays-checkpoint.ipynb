{
 "cells": [
  {
   "cell_type": "code",
   "execution_count": 12,
   "id": "d3a91a08",
   "metadata": {},
   "outputs": [
    {
     "name": "stdout",
     "output_type": "stream",
     "text": [
      "[1, 2, 3, 4, 5]\n",
      "['cat', 'dog', 'parrot', 'penguin']\n"
     ]
    }
   ],
   "source": [
    "# a single dimension array\n",
    "a = [1, 2, 3, 4, 5]\n",
    "print(a)\n",
    "pets = [\"cat\", \"dog\", \"parrot\", \"penguin\"]\n",
    "print(pets)"
   ]
  },
  {
   "cell_type": "code",
   "execution_count": 2,
   "id": "09ae61e9",
   "metadata": {},
   "outputs": [
    {
     "name": "stdout",
     "output_type": "stream",
     "text": [
      "[[1, 2, 3, 5], [6, 7, 8, 9]]\n"
     ]
    }
   ],
   "source": [
    "# multi dimension array\n",
    "a = [\n",
    "    [1, 2, 3, 5],\n",
    "    [6, 7, 8, 9]\n",
    "]\n",
    "print(a)"
   ]
  },
  {
   "cell_type": "code",
   "execution_count": 3,
   "id": "9d5a92b1",
   "metadata": {},
   "outputs": [
    {
     "name": "stdout",
     "output_type": "stream",
     "text": [
      "[['abc', 2, 3, 'def'], ['lmn', 65, 78, 'pqr'], [2, 3, 'rtq']]\n"
     ]
    }
   ],
   "source": [
    "# a heterogeneous array\n",
    "b = [\n",
    "    [\"abc\", 2, 3, \"def\"],\n",
    "    [\"lmn\", 65, 78, \"pqr\"],\n",
    "    [2, 3, \"rtq\"]\n",
    "]\n",
    "print(b)"
   ]
  },
  {
   "cell_type": "code",
   "execution_count": 15,
   "id": "e33b4ce3",
   "metadata": {},
   "outputs": [
    {
     "name": "stdout",
     "output_type": "stream",
     "text": [
      "[1. 1. 1. 1. 1.]\n"
     ]
    }
   ],
   "source": [
    "import numpy as np\n",
    "# array of all one's\n",
    "\n",
    "all_ones = np.ones(5)\n",
    "print(all_ones)"
   ]
  },
  {
   "cell_type": "code",
   "execution_count": 16,
   "id": "cf6c8409",
   "metadata": {},
   "outputs": [
    {
     "name": "stdout",
     "output_type": "stream",
     "text": [
      "[ 3.00390644  6.86060384  3.73487058  2.54787728  5.33702127 10.04217568\n",
      "  4.70741437  2.97739194 11.17034491  0.74343435 11.92874866  9.79987514\n",
      " 12.48589661 12.10019853  3.03320249  6.44899118  5.99595095  3.62402906\n",
      "  2.16674465  4.64316812 11.81884631 11.77653742  9.47225222  1.73536195\n",
      "  6.58311688  8.99752053 12.94227914 11.43925206 13.12735881 11.82238161\n",
      "  8.31027989  5.17438522  6.00322935  7.63086345  5.04591807  1.09850169\n",
      " 13.20911789  5.51307101  9.43694768 10.73630036  6.94277879  8.69868398\n",
      "  6.97500634  1.60495441  4.24731595  8.105219    7.49581479  6.78191176\n",
      "  2.84891337  9.77626211]\n"
     ]
    }
   ],
   "source": [
    "sampl = np.random.uniform(low=0.5, high=13.3, size=(50,))\n",
    "print(sampl)"
   ]
  },
  {
   "cell_type": "code",
   "execution_count": 18,
   "id": "1f94a651",
   "metadata": {},
   "outputs": [
    {
     "name": "stdout",
     "output_type": "stream",
     "text": [
      "[0. 0. 0. 0. 0. 0.]\n"
     ]
    }
   ],
   "source": [
    "# array of zeros\n",
    "all_zeros = np.zeros(6)\n",
    "print(all_zeros)"
   ]
  },
  {
   "cell_type": "code",
   "execution_count": 19,
   "id": "805fbb06",
   "metadata": {},
   "outputs": [
    {
     "name": "stdout",
     "output_type": "stream",
     "text": [
      "[[0 1 2]\n",
      " [3 4 5]\n",
      " [6 7 8]]\n"
     ]
    }
   ],
   "source": [
    "# array with a diagonal matrix\n",
    "x = np.arange(9).reshape((3,3))\n",
    "print(x)"
   ]
  }
 ],
 "metadata": {
  "kernelspec": {
   "display_name": "Python 3 (ipykernel)",
   "language": "python",
   "name": "python3"
  },
  "language_info": {
   "codemirror_mode": {
    "name": "ipython",
    "version": 3
   },
   "file_extension": ".py",
   "mimetype": "text/x-python",
   "name": "python",
   "nbconvert_exporter": "python",
   "pygments_lexer": "ipython3",
   "version": "3.9.7"
  }
 },
 "nbformat": 4,
 "nbformat_minor": 5
}
