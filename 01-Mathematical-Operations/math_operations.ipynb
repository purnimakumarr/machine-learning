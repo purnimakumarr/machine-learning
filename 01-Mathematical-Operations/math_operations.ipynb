{
 "cells": [
  {
   "cell_type": "markdown",
   "id": "81f96ccb",
   "metadata": {},
   "source": [
    "# Practical - 1\n",
    "\n",
    "### AIM\n",
    "#### Perform elementary mathematical operations in Octave/MATLAB/R/Python like addition, multiplication, division and exponentiation.\n",
    "\n",
    "### CODE & OUTPUT"
   ]
  },
  {
   "cell_type": "code",
   "execution_count": null,
   "id": "4a3de0ef",
   "metadata": {},
   "outputs": [],
   "source": [
    "# addition\n",
    "3 + 4"
   ]
  },
  {
   "cell_type": "code",
   "execution_count": 2,
   "id": "17d4654e",
   "metadata": {
    "scrolled": false
   },
   "outputs": [
    {
     "data": {
      "text/plain": [
       "12"
      ]
     },
     "execution_count": 2,
     "metadata": {},
     "output_type": "execute_result"
    }
   ],
   "source": [
    "# multiplication\n",
    "3 * 4"
   ]
  },
  {
   "cell_type": "code",
   "execution_count": 3,
   "id": "5a71f8a4",
   "metadata": {},
   "outputs": [
    {
     "data": {
      "text/plain": [
       "0.75"
      ]
     },
     "execution_count": 3,
     "metadata": {},
     "output_type": "execute_result"
    }
   ],
   "source": [
    "# division\n",
    "3 / 4"
   ]
  },
  {
   "cell_type": "code",
   "execution_count": 4,
   "id": "6ec6608d",
   "metadata": {},
   "outputs": [
    {
     "data": {
      "text/plain": [
       "81"
      ]
     },
     "execution_count": 4,
     "metadata": {},
     "output_type": "execute_result"
    }
   ],
   "source": [
    "# exponentiation\n",
    "3 ** 4"
   ]
  },
  {
   "cell_type": "code",
   "execution_count": 5,
   "id": "aef525ab",
   "metadata": {},
   "outputs": [
    {
     "name": "stdout",
     "output_type": "stream",
     "text": [
      "101\n",
      "-11\n",
      "0.8035714285714286\n",
      "380102539714517509119234755043630811768952009743379517880956797171165817417204380035400390625\n"
     ]
    }
   ],
   "source": [
    "a = 45\n",
    "b = 56\n",
    "print(a+b)\n",
    "print(a-b)\n",
    "print(a/b)\n",
    "print(a**b)"
   ]
  }
 ],
 "metadata": {
  "kernelspec": {
   "display_name": "Python 3 (ipykernel)",
   "language": "python",
   "name": "python3"
  },
  "language_info": {
   "codemirror_mode": {
    "name": "ipython",
    "version": 3
   },
   "file_extension": ".py",
   "mimetype": "text/x-python",
   "name": "python",
   "nbconvert_exporter": "python",
   "pygments_lexer": "ipython3",
   "version": "3.9.7"
  }
 },
 "nbformat": 4,
 "nbformat_minor": 5
}
