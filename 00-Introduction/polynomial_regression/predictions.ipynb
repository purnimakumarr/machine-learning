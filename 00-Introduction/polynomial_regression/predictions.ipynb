{
 "cells": [
  {
   "cell_type": "code",
   "execution_count": 5,
   "id": "e6030fd3",
   "metadata": {},
   "outputs": [],
   "source": [
    "import pandas as pd\n",
    "from sklearn import preprocessing\n",
    "from sklearn import linear_model"
   ]
  },
  {
   "cell_type": "code",
   "execution_count": 6,
   "id": "bf2ade55",
   "metadata": {},
   "outputs": [
    {
     "name": "stdout",
     "output_type": "stream",
     "text": [
      "            Position  Level   Salary\n",
      "0   Business Analyst      1    45000\n",
      "1  Junior Consultant      2    50000\n",
      "2  Senior Consultant      3    60000\n",
      "3            Manager      4    80000\n",
      "4    Country Manager      5   110000\n",
      "5     Region Manager      6   150000\n",
      "6            Partner      7   200000\n",
      "7     Senior Partner      8   300000\n",
      "8            C-level      9   500000\n",
      "9                CEO     10  1000000\n"
     ]
    }
   ],
   "source": [
    "df = pd.read_csv(\"Position_Salaries.csv\")\n",
    "print(df)"
   ]
  },
  {
   "cell_type": "code",
   "execution_count": 7,
   "id": "5a09104e",
   "metadata": {},
   "outputs": [
    {
     "name": "stdout",
     "output_type": "stream",
     "text": [
      "   Level   Salary\n",
      "0      1    45000\n",
      "1      2    50000\n",
      "2      3    60000\n",
      "3      4    80000\n",
      "4      5   110000\n",
      "5      6   150000\n",
      "6      7   200000\n",
      "7      8   300000\n",
      "8      9   500000\n",
      "9     10  1000000\n"
     ]
    }
   ],
   "source": [
    "new_df = df.drop(\"Position\", axis=\"columns\")\n",
    "print(new_df)"
   ]
  },
  {
   "cell_type": "code",
   "execution_count": 8,
   "id": "79d7e416",
   "metadata": {},
   "outputs": [
    {
     "data": {
      "text/plain": [
       "<matplotlib.collections.PathCollection at 0x2312d7b9f70>"
      ]
     },
     "execution_count": 8,
     "metadata": {},
     "output_type": "execute_result"
    },
    {
     "data": {
      "image/png": "[encoded data removed]",
      "text/plain": [
       "<Figure size 432x288 with 1 Axes>"
      ]
     },
     "metadata": {
      "needs_background": "light"
     },
     "output_type": "display_data"
    }
   ],
   "source": [
    "import matplotlib.pyplot as plt\n",
    "%matplotlib inline\n",
    "\n",
    "plt.xlabel('Level')\n",
    "plt.ylabel('Salary')\n",
    "plt.scatter(df.Level, df.Salary, color = \"red\", marker=\".\")"
   ]
  },
  {
   "cell_type": "code",
   "execution_count": 42,
   "id": "7e14c72d",
   "metadata": {},
   "outputs": [
    {
     "data": {
      "text/plain": [
       "[<matplotlib.lines.Line2D at 0x2312f22c250>]"
      ]
     },
     "execution_count": 42,
     "metadata": {},
     "output_type": "execute_result"
    },
    {
     "data": {
      "image/png": "[encoded data removed]",
      "text/plain": [
       "<Figure size 432x288 with 1 Axes>"
      ]
     },
     "metadata": {
      "needs_background": "light"
     },
     "output_type": "display_data"
    }
   ],
   "source": [
    "polynomial_reg = preprocessing.PolynomialFeatures(degree = 2)\n",
    "linear_reg = linear_model.LinearRegression()\n",
    "linear_reg2 = linear_model.LinearRegression()\n",
    "\n",
    "level = new_df.drop(\"Salary\", axis=\"columns\")\n",
    "salary = new_df.drop(\"Level\", axis=\"columns\")\n",
    "\n",
    "polynomial = polynomial_reg.fit_transform(level)\n",
    "linear_reg.fit(polynomial, salary)\n",
    "\n",
    "linear_reg2.fit(level, salary)\n",
    "\n",
    "plt.xlabel(\"Level\")\n",
    "plt.ylabel(\"Salary\")\n",
    "plt.scatter(level, salary, color = \"red\")\n",
    "plt.plot(level, linear_reg2.predict(level), color = \"blue\")\n",
    "plt.plot(level, linear_reg.predict(polynomial), color = \"green\")"
   ]
  },
  {
   "cell_type": "code",
   "execution_count": 44,
   "id": "e264a965",
   "metadata": {},
   "outputs": [
    {
     "data": {
      "text/plain": [
       "array([[330378.78787879]])"
      ]
     },
     "execution_count": 44,
     "metadata": {},
     "output_type": "execute_result"
    }
   ],
   "source": [
    "linear_reg2.predict([[6.5]])"
   ]
  },
  {
   "cell_type": "code",
   "execution_count": 46,
   "id": "d1c2ac52",
   "metadata": {},
   "outputs": [
    {
     "data": {
      "text/plain": [
       "array([[189498.10606061]])"
      ]
     },
     "execution_count": 46,
     "metadata": {},
     "output_type": "execute_result"
    }
   ],
   "source": [
    "linear_reg.predict(polynomial_reg.fit_transform([[6.5]]))"
   ]
  },
  {
   "cell_type": "code",
   "execution_count": 47,
   "id": "2ba1d603",
   "metadata": {},
   "outputs": [
    {
     "data": {
      "text/plain": [
       "array([[87742.42424242]])"
      ]
     },
     "execution_count": 47,
     "metadata": {},
     "output_type": "execute_result"
    }
   ],
   "source": [
    "linear_reg2.predict([[3.5]])"
   ]
  },
  {
   "cell_type": "code",
   "execution_count": 48,
   "id": "ac834b8b",
   "metadata": {},
   "outputs": [
    {
     "data": {
      "text/plain": [
       "array([[5157.1969697]])"
      ]
     },
     "execution_count": 48,
     "metadata": {},
     "output_type": "execute_result"
    }
   ],
   "source": [
    "linear_reg.predict(polynomial_reg.fit_transform([[3.5]]))"
   ]
  }
 ],
 "metadata": {
  "kernelspec": {
   "display_name": "Python 3 (ipykernel)",
   "language": "python",
   "name": "python3"
  },
  "language_info": {
   "codemirror_mode": {
    "name": "ipython",
    "version": 3
   },
   "file_extension": ".py",
   "mimetype": "text/x-python",
   "name": "python",
   "nbconvert_exporter": "python",
   "pygments_lexer": "ipython3",
   "version": "3.9.7"
  }
 },
 "nbformat": 4,
 "nbformat_minor": 5
}
