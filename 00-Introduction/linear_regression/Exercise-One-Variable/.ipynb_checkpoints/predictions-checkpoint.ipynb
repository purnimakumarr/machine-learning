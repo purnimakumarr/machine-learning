{
 "cells": [
  {
   "cell_type": "code",
   "execution_count": 1,
   "id": "ccca8de9",
   "metadata": {},
   "outputs": [],
   "source": [
    "import matplotlib\n",
    "import pandas as pd\n",
    "import numpy as np\n",
    "from sklearn import linear_model\n",
    "import matplotlib.pyplot as plt"
   ]
  },
  {
   "cell_type": "code",
   "execution_count": 3,
   "id": "fa398a25",
   "metadata": {},
   "outputs": [
    {
     "name": "stdout",
     "output_type": "stream",
     "text": [
      "    year  income_per_capita\n",
      "0   1970        3399.299037\n",
      "1   1971        3768.297935\n",
      "2   1972        4251.175484\n",
      "3   1973        4804.463248\n",
      "4   1974        5576.514583\n",
      "5   1975        5998.144346\n",
      "6   1976        7062.131392\n",
      "7   1977        7100.126170\n",
      "8   1978        7247.967035\n",
      "9   1979        7602.912681\n",
      "10  1980        8355.968120\n",
      "11  1981        9434.390652\n",
      "12  1982        9619.438377\n",
      "13  1983       10416.536590\n",
      "14  1984       10790.328720\n",
      "15  1985       11018.955850\n",
      "16  1986       11482.891530\n",
      "17  1987       12974.806620\n",
      "18  1988       15080.283450\n",
      "19  1989       16426.725480\n",
      "20  1990       16838.673200\n",
      "21  1991       17266.097690\n",
      "22  1992       16412.083090\n",
      "23  1993       15875.586730\n",
      "24  1994       15755.820270\n",
      "25  1995       16369.317250\n",
      "26  1996       16699.826680\n",
      "27  1997       17310.757750\n",
      "28  1998       16622.671870\n",
      "29  1999       17581.024140\n",
      "30  2000       18987.382410\n",
      "31  2001       18601.397240\n",
      "32  2002       19232.175560\n",
      "33  2003       22739.426280\n",
      "34  2004       25719.147150\n",
      "35  2005       29198.055690\n",
      "36  2006       32738.262900\n",
      "37  2007       36144.481220\n",
      "38  2008       37446.486090\n",
      "39  2009       32755.176820\n",
      "40  2010       38420.522890\n",
      "41  2011       42334.711210\n",
      "42  2012       42665.255970\n",
      "43  2013       42676.468370\n",
      "44  2014       41039.893600\n",
      "45  2015       35175.188980\n",
      "46  2016       34229.193630\n"
     ]
    }
   ],
   "source": [
    "df = pd.read_csv(\"canada_per_capita_income.csv\")\n",
    "print(df)"
   ]
  },
  {
   "cell_type": "code",
   "execution_count": 4,
   "id": "e63a9c48",
   "metadata": {},
   "outputs": [
    {
     "data": {
      "text/plain": [
       "<matplotlib.collections.PathCollection at 0x15a75179d90>"
      ]
     },
     "execution_count": 4,
     "metadata": {},
     "output_type": "execute_result"
    },
    {
     "data": {
      "image/png": "[encoded data removed]",
      "text/plain": [
       "<Figure size 432x288 with 1 Axes>"
      ]
     },
     "metadata": {
      "needs_background": "light"
     },
     "output_type": "display_data"
    }
   ],
   "source": [
    "%matplotlib inline\n",
    "plt.xlabel(\"year\")\n",
    "plt.ylabel(\"income per capita\")\n",
    "plt.scatter(df.year, df.income_per_capita, color=\"green\", marker=\"*\")"
   ]
  },
  {
   "cell_type": "code",
   "execution_count": 5,
   "id": "01f59d7b",
   "metadata": {},
   "outputs": [
    {
     "name": "stdout",
     "output_type": "stream",
     "text": [
      "    year\n",
      "0   1970\n",
      "1   1971\n",
      "2   1972\n",
      "3   1973\n",
      "4   1974\n",
      "5   1975\n",
      "6   1976\n",
      "7   1977\n",
      "8   1978\n",
      "9   1979\n",
      "10  1980\n",
      "11  1981\n",
      "12  1982\n",
      "13  1983\n",
      "14  1984\n",
      "15  1985\n",
      "16  1986\n",
      "17  1987\n",
      "18  1988\n",
      "19  1989\n",
      "20  1990\n",
      "21  1991\n",
      "22  1992\n",
      "23  1993\n",
      "24  1994\n",
      "25  1995\n",
      "26  1996\n",
      "27  1997\n",
      "28  1998\n",
      "29  1999\n",
      "30  2000\n",
      "31  2001\n",
      "32  2002\n",
      "33  2003\n",
      "34  2004\n",
      "35  2005\n",
      "36  2006\n",
      "37  2007\n",
      "38  2008\n",
      "39  2009\n",
      "40  2010\n",
      "41  2011\n",
      "42  2012\n",
      "43  2013\n",
      "44  2014\n",
      "45  2015\n",
      "46  2016\n"
     ]
    }
   ],
   "source": [
    "new_df = df.drop(\"income_per_capita\", axis=\"columns\")\n",
    "print(new_df)"
   ]
  },
  {
   "cell_type": "code",
   "execution_count": 6,
   "id": "65607265",
   "metadata": {},
   "outputs": [
    {
     "name": "stdout",
     "output_type": "stream",
     "text": [
      "0      3399.299037\n",
      "1      3768.297935\n",
      "2      4251.175484\n",
      "3      4804.463248\n",
      "4      5576.514583\n",
      "5      5998.144346\n",
      "6      7062.131392\n",
      "7      7100.126170\n",
      "8      7247.967035\n",
      "9      7602.912681\n",
      "10     8355.968120\n",
      "11     9434.390652\n",
      "12     9619.438377\n",
      "13    10416.536590\n",
      "14    10790.328720\n",
      "15    11018.955850\n",
      "16    11482.891530\n",
      "17    12974.806620\n",
      "18    15080.283450\n",
      "19    16426.725480\n",
      "20    16838.673200\n",
      "21    17266.097690\n",
      "22    16412.083090\n",
      "23    15875.586730\n",
      "24    15755.820270\n",
      "25    16369.317250\n",
      "26    16699.826680\n",
      "27    17310.757750\n",
      "28    16622.671870\n",
      "29    17581.024140\n",
      "30    18987.382410\n",
      "31    18601.397240\n",
      "32    19232.175560\n",
      "33    22739.426280\n",
      "34    25719.147150\n",
      "35    29198.055690\n",
      "36    32738.262900\n",
      "37    36144.481220\n",
      "38    37446.486090\n",
      "39    32755.176820\n",
      "40    38420.522890\n",
      "41    42334.711210\n",
      "42    42665.255970\n",
      "43    42676.468370\n",
      "44    41039.893600\n",
      "45    35175.188980\n",
      "46    34229.193630\n",
      "Name: income_per_capita, dtype: float64\n"
     ]
    },
    {
     "data": {
      "text/plain": [
       "LinearRegression()"
      ]
     },
     "execution_count": 6,
     "metadata": {},
     "output_type": "execute_result"
    }
   ],
   "source": [
    "income_per_capita = df.income_per_capita\n",
    "print(income_per_capita)\n",
    "regression = linear_model.LinearRegression()\n",
    "regression.fit(new_df, income_per_capita)"
   ]
  },
  {
   "cell_type": "code",
   "execution_count": 7,
   "id": "6829bb21",
   "metadata": {},
   "outputs": [
    {
     "name": "stdout",
     "output_type": "stream",
     "text": [
      "[41288.69409442]\n"
     ]
    }
   ],
   "source": [
    "income_per_capita_2020 = regression.predict([[2020]])\n",
    "print(income_per_capita_2020)"
   ]
  }
 ],
 "metadata": {
  "kernelspec": {
   "display_name": "Python 3 (ipykernel)",
   "language": "python",
   "name": "python3"
  },
  "language_info": {
   "codemirror_mode": {
    "name": "ipython",
    "version": 3
   },
   "file_extension": ".py",
   "mimetype": "text/x-python",
   "name": "python",
   "nbconvert_exporter": "python",
   "pygments_lexer": "ipython3",
   "version": "3.9.7"
  }
 },
 "nbformat": 4,
 "nbformat_minor": 5
}
