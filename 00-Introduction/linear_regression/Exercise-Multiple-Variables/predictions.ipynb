{
 "cells": [
  {
   "cell_type": "code",
   "execution_count": 1,
   "id": "a6abd629",
   "metadata": {},
   "outputs": [],
   "source": [
    "import numpy as np\n",
    "import pandas as pd\n",
    "from sklearn import linear_model"
   ]
  },
  {
   "cell_type": "code",
   "execution_count": 2,
   "id": "c0c03646",
   "metadata": {},
   "outputs": [
    {
     "name": "stdout",
     "output_type": "stream",
     "text": [
      "  experience  test_score  interview_score  salary\n",
      "0        NaN         8.0                9   50000\n",
      "1        NaN         8.0                6   45000\n",
      "2       five         6.0                7   60000\n",
      "3        two        10.0               10   65000\n",
      "4      seven         9.0                6   70000\n",
      "5      three         7.0               10   62000\n",
      "6        ten         NaN                7   72000\n",
      "7     eleven         7.0                8   80000\n"
     ]
    }
   ],
   "source": [
    "df = pd.read_csv(\"salaries.csv\")\n",
    "print(df)"
   ]
  },
  {
   "cell_type": "code",
   "execution_count": 3,
   "id": "fc5b264d",
   "metadata": {},
   "outputs": [
    {
     "name": "stdout",
     "output_type": "stream",
     "text": [
      "   experience  test_score  interview_score  salary\n",
      "0         NaN         8.0                9   50000\n",
      "1         NaN         8.0                6   45000\n",
      "2         5.0         6.0                7   60000\n",
      "3         2.0        10.0               10   65000\n",
      "4         7.0         9.0                6   70000\n",
      "5         3.0         7.0               10   62000\n",
      "6        10.0         NaN                7   72000\n",
      "7        11.0         7.0                8   80000\n"
     ]
    }
   ],
   "source": [
    "df.experience = df.experience.map({'two': 2, 'three': 3, 'five': 5, 'seven': 7, 'ten': 10, 'eleven': 11})\n",
    "print(df)"
   ]
  },
  {
   "cell_type": "code",
   "execution_count": 4,
   "id": "53acba4f",
   "metadata": {},
   "outputs": [
    {
     "name": "stdout",
     "output_type": "stream",
     "text": [
      "   experience  test_score  interview_score  salary\n",
      "0         0.0         8.0                9   50000\n",
      "1         0.0         8.0                6   45000\n",
      "2         5.0         6.0                7   60000\n",
      "3         2.0        10.0               10   65000\n",
      "4         7.0         9.0                6   70000\n",
      "5         3.0         7.0               10   62000\n",
      "6        10.0         NaN                7   72000\n",
      "7        11.0         7.0                8   80000\n"
     ]
    }
   ],
   "source": [
    "df.experience = df.experience.fillna(0)\n",
    "print(df)"
   ]
  },
  {
   "cell_type": "code",
   "execution_count": 6,
   "id": "357fac3c",
   "metadata": {},
   "outputs": [
    {
     "name": "stdout",
     "output_type": "stream",
     "text": [
      "   experience  test_score  interview_score  salary\n",
      "0         0.0         8.0                9   50000\n",
      "1         0.0         8.0                6   45000\n",
      "2         5.0         6.0                7   60000\n",
      "3         2.0        10.0               10   65000\n",
      "4         7.0         9.0                6   70000\n",
      "5         3.0         7.0               10   62000\n",
      "6        10.0         8.0                7   72000\n",
      "7        11.0         7.0                8   80000\n"
     ]
    }
   ],
   "source": [
    "df.test_score = df.test_score.fillna(df.test_score.median())\n",
    "print(df)"
   ]
  },
  {
   "cell_type": "code",
   "execution_count": 7,
   "id": "d0a03ced",
   "metadata": {},
   "outputs": [
    {
     "data": {
      "text/plain": [
       "LinearRegression()"
      ]
     },
     "execution_count": 7,
     "metadata": {},
     "output_type": "execute_result"
    }
   ],
   "source": [
    "model = linear_model.LinearRegression()\n",
    "model.fit(df.drop(\"salary\", axis=\"columns\"), df.salary)"
   ]
  },
  {
   "cell_type": "code",
   "execution_count": 8,
   "id": "ee783c8c",
   "metadata": {},
   "outputs": [
    {
     "data": {
      "text/plain": [
       "array([53205.96797671])"
      ]
     },
     "execution_count": 8,
     "metadata": {},
     "output_type": "execute_result"
    }
   ],
   "source": [
    "model.predict([[2, 9, 6]])"
   ]
  },
  {
   "cell_type": "code",
   "execution_count": 9,
   "id": "a9d15331",
   "metadata": {},
   "outputs": [
    {
     "data": {
      "text/plain": [
       "array([92002.18340611])"
      ]
     },
     "execution_count": 9,
     "metadata": {},
     "output_type": "execute_result"
    }
   ],
   "source": [
    "model.predict([[12, 10, 10]])"
   ]
  },
  {
   "cell_type": "code",
   "execution_count": 10,
   "id": "d7bea901",
   "metadata": {},
   "outputs": [
    {
     "data": {
      "text/plain": [
       "17737.263464337688"
      ]
     },
     "execution_count": 10,
     "metadata": {},
     "output_type": "execute_result"
    }
   ],
   "source": [
    "model.intercept_"
   ]
  },
  {
   "cell_type": "code",
   "execution_count": 11,
   "id": "e56ac929",
   "metadata": {},
   "outputs": [
    {
     "data": {
      "text/plain": [
       "array([2812.95487627, 1845.70596798, 2205.24017467])"
      ]
     },
     "execution_count": 11,
     "metadata": {},
     "output_type": "execute_result"
    }
   ],
   "source": [
    "model.coef_"
   ]
  },
  {
   "cell_type": "code",
   "execution_count": 12,
   "id": "295643fc",
   "metadata": {},
   "outputs": [
    {
     "data": {
      "text/plain": [
       "53205.96797671769"
      ]
     },
     "execution_count": 12,
     "metadata": {},
     "output_type": "execute_result"
    }
   ],
   "source": [
    "2*2812.95487627+9*1845.70596798+6*2205.24017467+17737.263464337688"
   ]
  },
  {
   "cell_type": "code",
   "execution_count": 13,
   "id": "3829e699",
   "metadata": {},
   "outputs": [
    {
     "data": {
      "text/plain": [
       "92002.18340607767"
      ]
     },
     "execution_count": 13,
     "metadata": {},
     "output_type": "execute_result"
    }
   ],
   "source": [
    "12*2812.95487627+10*1845.70596798+10*2205.24017467+17737.263464337688"
   ]
  }
 ],
 "metadata": {
  "kernelspec": {
   "display_name": "Python 3 (ipykernel)",
   "language": "python",
   "name": "python3"
  },
  "language_info": {
   "codemirror_mode": {
    "name": "ipython",
    "version": 3
   },
   "file_extension": ".py",
   "mimetype": "text/x-python",
   "name": "python",
   "nbconvert_exporter": "python",
   "pygments_lexer": "ipython3",
   "version": "3.9.7"
  }
 },
 "nbformat": 4,
 "nbformat_minor": 5
}
