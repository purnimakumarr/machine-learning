{
 "cells": [
  {
   "cell_type": "markdown",
   "id": "6886b699",
   "metadata": {},
   "source": [
    "# Practical - 3\n",
    "\n",
    "### AIM\n",
    "#### Create, initialize and display simple variables and simple strings and use simple formatting for variables.\n",
    "\n",
    "### CODE & OUTPUT"
   ]
  },
  {
   "cell_type": "code",
   "execution_count": 1,
   "id": "886f7b3e",
   "metadata": {},
   "outputs": [],
   "source": [
    "# a simple string\n",
    "str1 = \"Machine Learning is fun.\""
   ]
  },
  {
   "cell_type": "code",
   "execution_count": 2,
   "id": "354b81b2",
   "metadata": {},
   "outputs": [
    {
     "name": "stdout",
     "output_type": "stream",
     "text": [
      "Machine Learning is fun.\n"
     ]
    }
   ],
   "source": [
    "print(str1)"
   ]
  },
  {
   "cell_type": "code",
   "execution_count": 3,
   "id": "ee7353c0",
   "metadata": {},
   "outputs": [
    {
     "name": "stdout",
     "output_type": "stream",
     "text": [
      "5\n"
     ]
    }
   ],
   "source": [
    "# a simple variable\n",
    "a = 5\n",
    "print(a)"
   ]
  },
  {
   "cell_type": "code",
   "execution_count": 4,
   "id": "b0fd5277",
   "metadata": {},
   "outputs": [],
   "source": [
    "# another simple string \n",
    "str2 = \"This is another string\""
   ]
  },
  {
   "cell_type": "code",
   "execution_count": 5,
   "id": "7ef6ebd2",
   "metadata": {},
   "outputs": [
    {
     "name": "stdout",
     "output_type": "stream",
     "text": [
      "This is another string\n"
     ]
    }
   ],
   "source": [
    "print(str2)"
   ]
  },
  {
   "cell_type": "code",
   "execution_count": 6,
   "id": "8ce61c14",
   "metadata": {},
   "outputs": [
    {
     "name": "stdout",
     "output_type": "stream",
     "text": [
      "56\n",
      "45\n",
      "23\n"
     ]
    }
   ],
   "source": [
    "# some more variables\n",
    "b = 56\n",
    "c = 45\n",
    "d = 23\n",
    "print(b)\n",
    "print(c)\n",
    "print(d)"
   ]
  }
 ],
 "metadata": {
  "kernelspec": {
   "display_name": "Python 3 (ipykernel)",
   "language": "python",
   "name": "python3"
  },
  "language_info": {
   "codemirror_mode": {
    "name": "ipython",
    "version": 3
   },
   "file_extension": ".py",
   "mimetype": "text/x-python",
   "name": "python",
   "nbconvert_exporter": "python",
   "pygments_lexer": "ipython3",
   "version": "3.9.7"
  }
 },
 "nbformat": 4,
 "nbformat_minor": 5
}
